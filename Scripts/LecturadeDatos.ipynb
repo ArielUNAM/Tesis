{
 "cells": [
  {
   "cell_type": "markdown",
   "metadata": {},
   "source": [
    "# Convirtiendo la reflctibilidad a precipitación\n",
    "\n",
    "La reflectivilidad $(Z)$ y la tasa de precipitación $(R)$ pueden ser relacionados usando una relación de potencias  $Z = a\\cdot R^b$. Los parámetros $a, b$ depenenden del tipo de precipitación (por ejemplo del tamaño de la gota y la temperatura del agua). Wradlib proviciona un par de funcione que pueden ser útilies para este trabajo.\n",
    "\n",
    "El siguiente ejemplo muestra los pasos para combertir de <a href=\"https://en.wikipedia.org/wiki/DBZ_(meteorology)\">$dBZ$</a> (decibles de la reflectivilidad del factor Z) a la intenciad de la precipitación (en mm/h). "
   ]
  },
  {
   "cell_type": "code",
   "execution_count": 1,
   "metadata": {},
   "outputs": [],
   "source": [
    "import numpy as np\n",
    "import wradlib as wl\n",
    "import pylab as pl"
   ]
  },
  {
   "cell_type": "code",
   "execution_count": 2,
   "metadata": {},
   "outputs": [
    {
     "name": "stdout",
     "output_type": "stream",
     "text": [
      "[20 30 40 45 50 55]\n"
     ]
    }
   ],
   "source": [
    "dBZ = np.array([20,30,40,45,50,55])\n",
    "print(dBZ)"
   ]
  },
  {
   "cell_type": "code",
   "execution_count": 3,
   "metadata": {},
   "outputs": [
    {
     "name": "stdout",
     "output_type": "stream",
     "text": [
      "[1.00000000e+02 1.00000000e+03 1.00000000e+04 3.16227766e+04\n",
      " 1.00000000e+05 3.16227766e+05]\n"
     ]
    }
   ],
   "source": [
    "#Convirtiendo a Z (mm^6/m^3)\n",
    "Z = wl.trafo.idecibel(dBZ)\n",
    "print(Z)"
   ]
  },
  {
   "cell_type": "code",
   "execution_count": 4,
   "metadata": {},
   "outputs": [
    {
     "name": "stdout",
     "output_type": "stream",
     "text": [
      "[ 0.65  2.73 11.53 23.68 48.62 99.85]\n"
     ]
    }
   ],
   "source": [
    "# Convirtiendo a R (mm/h)\n",
    "R = wl.zr.z_to_r(Z,a=200,b=1.6)\n",
    "print(np.round(R,2))"
   ]
  },
  {
   "cell_type": "code",
   "execution_count": 5,
   "metadata": {},
   "outputs": [
    {
     "name": "stdout",
     "output_type": "stream",
     "text": [
      "[0.05 0.23 0.96 1.97 4.05 8.32]\n"
     ]
    }
   ],
   "source": [
    "#Conviritendo a volumen (mm = L/m^2). Depth.\n",
    "V = wl.trafo.r_to_depth(R,300)\n",
    "print(np.round(V,2))"
   ]
  },
  {
   "cell_type": "markdown",
   "metadata": {},
   "source": [
    "## Un ejemplo con datos reales\n",
    "\n",
    "Los datos del siguiente ejemplo contienen información de un radar del tipo DWD banda-C, instalado en Feldber, Alemania (SW-Germany). La figura muestra la acumulación de la precipitación en un intervalo de 15 minutos, producido por el escaneo de tres radares consecutivos en intervalos de 5 minutos entre las 17:30 y las 17:45 en junio 8, 2008\n",
    "\n",
    "Los datos del radar son leidos usando la función <text style=\"color:blue;\">wradlib.io.read_dx</text> la cual regresa un array de valores dBZ y un metadiccionario. Se realiza una converción de vaores a $V$ y se genera una gráfica del resultado."
   ]
  },
  {
   "cell_type": "code",
   "execution_count": 6,
   "metadata": {},
   "outputs": [],
   "source": [
    "def read_data(dtimes,path):\n",
    "    \"\"\"\n",
    "        Función que facilita la lectura de datos\n",
    "        \n",
    "        Inputs\n",
    "        ------\n",
    "        dtimes:list\n",
    "            Nombre del conjunto de datos\n",
    "            \n",
    "        path:str\n",
    "            Ubicación de la carpeta de ejemplos        \n",
    "        \n",
    "        Outputs\n",
    "        -------\n",
    "        data:numpy.array\n",
    "            Conjunto de datos en formato dBZ\n",
    "    \"\"\"\n",
    "    data = np.empty((len(dtimes),360,128))\n",
    "    dic = list(range(len(dtimes)))\n",
    "    for i, dtime in enumerate(dtimes):\n",
    "        f = path+'dx/raa00-dx_10908-{0}-fbg---bin.gz'.format(dtime)\n",
    "        data[i], dic[i] = wl.io.read_dx(f)\n",
    "    return(data,dic)"
   ]
  },
  {
   "cell_type": "code",
   "execution_count": 7,
   "metadata": {},
   "outputs": [],
   "source": [
    "# Read\n",
    "dtimes = [\"0806021735\",\"0806021740\",\"0806021745\"]\n",
    "path = \"/home/aceron/Documentos/GitHub/Tesis/wradlib-data-master/\"\n",
    "dBZ,metaDic = read_data(dtimes,path)\n",
    "Z = wl.trafo.idecibel(dBZ)\n",
    "R = wl.zr.z_to_r(Z,a=200,b=1.6)\n",
    "V = wl.trafo.r_to_depth(R,300)\n",
    "acum = np.sum(V,axis=0)"
   ]
  },
  {
   "cell_type": "code",
   "execution_count": 8,
   "metadata": {},
   "outputs": [
    {
     "data": {
      "text/plain": [
       "<Figure size 720x576 with 0 Axes>"
      ]
     },
     "metadata": {},
     "output_type": "display_data"
    },
    {
     "data": {
      "image/png": "[encoded data removed]",
      "text/plain": [
       "<Figure size 432x288 with 2 Axes>"
      ]
     },
     "metadata": {
      "needs_background": "light"
     },
     "output_type": "display_data"
    }
   ],
   "source": [
    "#Plot\n",
    "pl.figure(figsize=(10,8))\n",
    "ax, cf = wl.vis.plot_ppi(acum, cmap=\"viridis\")\n",
    "pl.xlabel(\"Easting from radar (km)\")\n",
    "pl.ylabel(\"Northing from radar (km)\")\n",
    "pl.title(\"Radar Feldberg\\n15 min. rainfall depth, 2008-06-02 17:30-17:45 UTC\")\n",
    "cb = pl.colorbar(cf, shrink=0.8)\n",
    "cb.set_label(\"mm\")\n",
    "pl.xlim(-128,128)\n",
    "pl.ylim(-128,128)\n",
    "pl.grid(color=\"grey\")"
   ]
  },
  {
   "cell_type": "markdown",
   "metadata": {},
   "source": [
    "## Ejemplo 2\n",
    "\n",
    "Lectura de datos de radar usando el método iris (Vaisala Sigmet Interactive Radar Information System)"
   ]
  },
  {
   "cell_type": "code",
   "execution_count": 9,
   "metadata": {},
   "outputs": [],
   "source": [
    "import os"
   ]
  },
  {
   "cell_type": "code",
   "execution_count": 10,
   "metadata": {},
   "outputs": [],
   "source": [
    "def list_data(path:str,iyear:int,imonth:int,iday:int,fyear:int,fmonth:int,fday:int):\n",
    "    \"\"\"\n",
    "        Función que facilita la lectura en intervalos dados. \n",
    "        El archivo esta descrito de la siguiente forma\n",
    "            \n",
    "                    CATYYMMDDHHmmSS.EXT\n",
    "        \n",
    "    Inputs\n",
    "    ------\n",
    "    \n",
    "    path:str\n",
    "        Directorio donde se alojan los datos    \n",
    "    iyear:int\n",
    "        Año inicial\n",
    "    imonth:int\n",
    "        Mes inicial\n",
    "    iday:\n",
    "        Día inicial\n",
    "    fyear:int\n",
    "        Año final\n",
    "    fmonth:int\n",
    "        Mes final\n",
    "    fday:\n",
    "        Día final\n",
    "    \n",
    "    data:list\n",
    "        Regresa un arreglo con los nombres de los archivos\n",
    "    \"\"\"\n",
    "    ldata = os.listdir(path)\n",
    "    iname = \"CAT\"+str(iyear)[2:]+str(imonth).zfill(2)+str(iday).zfill(2)\n",
    "    fname = \"CAT\"+str(fyear)[2:]+str(fmonth).zfill(2)+str(fday).zfill(2)\n",
    "    filtro = [data for data in ldata if data[:9] in [iname,fname]]\n",
    "    return(filtro)\n",
    "\n",
    "def read_data(path:str,filename:str):\n",
    "    \"\"\"\n",
    "        Regresa la lectura de un archivo usando read iris\n",
    "    \"\"\"\n",
    "    #to MB\n",
    "    size = os.stat(path+filename).st_size / (1024 * 1024)\n",
    "    try:\n",
    "        return(wl.io.iris.read_iris(path+filename))\n",
    "    except:\n",
    "        return((filename,size))\n"
   ]
  },
  {
   "cell_type": "code",
   "execution_count": 11,
   "metadata": {},
   "outputs": [
    {
     "name": "stdout",
     "output_type": "stream",
     "text": [
      "('CAT150101142045.RAW9JXX', 0.19921875)\n",
      "('CAT150101145044.RAW9JZG', 0.205078125)\n",
      "rof\n"
     ]
    }
   ],
   "source": [
    "path = \"datos/OneDrive_3_1-3-2021/\"\n",
    "ldatos = list_data(path,2015,1,1,2015,1,1)\n",
    "flag = True\n",
    "while flag:\n",
    "    for data in ldatos[:20]:\n",
    "        dic = read_data(path,data)\n",
    "        if (type(dic) is tuple):\n",
    "            print(dic)\n",
    "        else:\n",
    "            flag = False\n",
    "            break\n",
    "    print(\"rof\")\n",
    "    flag = False\n",
    "        "
   ]
  },
  {
   "cell_type": "code",
   "execution_count": 17,
   "metadata": {},
   "outputs": [
    {
     "name": "stdout",
     "output_type": "stream",
     "text": [
      "(360, 1201)\n",
      "(360, 1201)\n",
      "(360, 1201)\n",
      "(360, 1201)\n"
     ]
    }
   ],
   "source": [
    "# Read\n",
    "dBZ = dic['data'][1]['sweep_data']['DB_DBZ']['data']\n",
    "print(dBZ.shape)\n",
    "Z = wl.trafo.idecibel(dBZ)\n",
    "print(Z.shape)\n",
    "R = wl.zr.z_to_r(Z,a=200,b=1.6)\n",
    "print(R.shape)\n",
    "V = wl.trafo.r_to_depth(R,390)\n",
    "print(V.shape)\n",
    "acum = np.sum(V,axis=0)"
   ]
  },
  {
   "cell_type": "code",
   "execution_count": 13,
   "metadata": {},
   "outputs": [
    {
     "data": {
      "text/plain": [
       "<Figure size 720x576 with 0 Axes>"
      ]
     },
     "metadata": {},
     "output_type": "display_data"
    },
    {
     "data": {
      "image/png": "[encoded data removed]",
      "text/plain": [
       "<Figure size 432x288 with 2 Axes>"
      ]
     },
     "metadata": {
      "needs_background": "light"
     },
     "output_type": "display_data"
    }
   ],
   "source": [
    "pl.figure(figsize=(10,8))\n",
    "ax, pm = wl.vis.plot_ppi(dBZ)\n",
    "cbar = pl.colorbar(pm, shrink=0.75)"
   ]
  },
  {
   "cell_type": "code",
   "execution_count": 18,
   "metadata": {},
   "outputs": [
    {
     "name": "stdout",
     "output_type": "stream",
     "text": [
      "(360, 1201)\n"
     ]
    }
   ],
   "source": [
    "Zc = np.multiply(dic['data'][1]['sweep_data']['DB_VEL']['data'],\n",
    "                V)\n",
    "print(Zc.shape)"
   ]
  },
  {
   "cell_type": "code",
   "execution_count": 15,
   "metadata": {},
   "outputs": [
    {
     "data": {
      "text/plain": [
       "<Figure size 720x720 with 0 Axes>"
      ]
     },
     "metadata": {},
     "output_type": "display_data"
    },
    {
     "data": {
      "image/png": "[encoded data removed]",
      "text/plain": [
       "<Figure size 432x288 with 2 Axes>"
      ]
     },
     "metadata": {
      "needs_background": "light"
     },
     "output_type": "display_data"
    }
   ],
   "source": [
    "#Plot\n",
    "pl.figure(figsize=(10,10))\n",
    "ax, cf = wl.vis.plot_ppi(Zc)\n",
    "pl.xlabel(\"Easting from radar (km)\")\n",
    "pl.ylabel(\"Northing from radar (km)\")\n",
    "cb = pl.colorbar(cf, shrink=0.8)\n",
    "cb.set_label(\"mm\")\n",
    "pl.xlim(-128,128)\n",
    "pl.ylim(-128,128)\n",
    "pl.grid(color=\"grey\")"
   ]
  },
  {
   "cell_type": "code",
   "execution_count": null,
   "metadata": {},
   "outputs": [],
   "source": []
  }
 ],
 "metadata": {
  "kernelspec": {
   "display_name": "Python 3",
   "language": "python",
   "name": "python3"
  },
  "language_info": {
   "codemirror_mode": {
    "name": "ipython",
    "version": 3
   },
   "file_extension": ".py",
   "mimetype": "text/x-python",
   "name": "python",
   "nbconvert_exporter": "python",
   "pygments_lexer": "ipython3",
   "version": "3.8.5"
  }
 },
 "nbformat": 4,
 "nbformat_minor": 4
}
